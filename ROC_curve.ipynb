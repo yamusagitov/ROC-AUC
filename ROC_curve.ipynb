{
 "cells": [
  {
   "cell_type": "markdown",
   "id": "6d372a7c",
   "metadata": {},
   "source": [
    "### _What is ROC curve?_\n",
    "\n",
    "The ROC curve summarizes the prediction performance of a classification model at all classification thresholds. Particularly, the ROC curve plots the False Positive Rate (FPR) on the X-axis and the True Positive Rate (TPR) on the Y-axis.\n",
    "\n",
    "$\\text{TPR (Sensitivity)} = \\frac{TP}{TP + FN}$\n",
    "\n",
    "$\\text{FPR (1 - Specificity)} = \\frac{FP}{TN + FP}$"
   ]
  },
  {
   "cell_type": "markdown",
   "id": "2b04ce47",
   "metadata": {},
   "source": [
    "### Generate synthetic dataset"
   ]
  },
  {
   "cell_type": "code",
   "execution_count": 1,
   "id": "707e4a97",
   "metadata": {},
   "outputs": [],
   "source": [
    "from sklearn.datasets import make_classification\n",
    "from sklearn.datasets import make_circles\n",
    "import numpy as np"
   ]
  },
  {
   "cell_type": "code",
   "execution_count": 2,
   "id": "e3fefce4",
   "metadata": {},
   "outputs": [],
   "source": [
    "X,y = make_classification(n_samples=2000, n_features=10, n_classes=2, random_state=0)"
   ]
  },
  {
   "cell_type": "markdown",
   "id": "149a7446",
   "metadata": {},
   "source": [
    "### Add noisy features to make the problem"
   ]
  },
  {
   "cell_type": "code",
   "execution_count": 3,
   "id": "7784fc01",
   "metadata": {},
   "outputs": [
    {
     "ename": "NameError",
     "evalue": "name 'random_state' is not defined",
     "output_type": "error",
     "traceback": [
      "\u001b[0;31m---------------------------------------------------------------------------\u001b[0m",
      "\u001b[0;31mNameError\u001b[0m                                 Traceback (most recent call last)",
      "\u001b[0;32m<ipython-input-3-3d82eb5090a3>\u001b[0m in \u001b[0;36m<module>\u001b[0;34m\u001b[0m\n\u001b[1;32m      1\u001b[0m \u001b[0;31m# random_state = np.random.RandomState(0)\u001b[0m\u001b[0;34m\u001b[0m\u001b[0;34m\u001b[0m\u001b[0;34m\u001b[0m\u001b[0m\n\u001b[1;32m      2\u001b[0m \u001b[0;31m# n_samples, n_features = X.shape\u001b[0m\u001b[0;34m\u001b[0m\u001b[0;34m\u001b[0m\u001b[0;34m\u001b[0m\u001b[0m\n\u001b[0;32m----> 3\u001b[0;31m \u001b[0mX\u001b[0m \u001b[0;34m=\u001b[0m \u001b[0mnp\u001b[0m\u001b[0;34m.\u001b[0m\u001b[0mc_\u001b[0m\u001b[0;34m[\u001b[0m\u001b[0mX\u001b[0m\u001b[0;34m,\u001b[0m \u001b[0mrandom_state\u001b[0m\u001b[0;34m.\u001b[0m\u001b[0mrandn\u001b[0m\u001b[0;34m(\u001b[0m\u001b[0mn_samples\u001b[0m\u001b[0;34m,\u001b[0m \u001b[0;36m200\u001b[0m \u001b[0;34m*\u001b[0m \u001b[0mn_features\u001b[0m\u001b[0;34m)\u001b[0m\u001b[0;34m]\u001b[0m\u001b[0;34m\u001b[0m\u001b[0;34m\u001b[0m\u001b[0m\n\u001b[0m",
      "\u001b[0;31mNameError\u001b[0m: name 'random_state' is not defined"
     ]
    }
   ],
   "source": [
    "# random_state = np.random.RandomState(0)\n",
    "# n_samples, n_features = X.shape\n",
    "X = np.c_[X, random_state.randn(n_samples, 200 * n_features)]"
   ]
  },
  {
   "cell_type": "markdown",
   "id": "a8a416bc",
   "metadata": {},
   "source": [
    "### Data Splitting"
   ]
  },
  {
   "cell_type": "code",
   "execution_count": null,
   "id": "9987450f",
   "metadata": {},
   "outputs": [],
   "source": [
    "from sklearn.model_selection import train_test_split"
   ]
  },
  {
   "cell_type": "code",
   "execution_count": null,
   "id": "65555b78",
   "metadata": {},
   "outputs": [],
   "source": [
    "X_train, X_test, y_train, y_test = train_test_split(X, y, test_size=0.368, random_state=0)"
   ]
  },
  {
   "cell_type": "markdown",
   "id": "76c70d8b",
   "metadata": {},
   "source": [
    "### Build classification model: _Random Forest_ and _Gaussian Naive Bayes_"
   ]
  },
  {
   "cell_type": "code",
   "execution_count": null,
   "id": "14e84922",
   "metadata": {},
   "outputs": [],
   "source": [
    "from sklearn.ensemble import RandomForestClassifier\n",
    "from sklearn.naive_bayes import GaussianNB"
   ]
  },
  {
   "cell_type": "markdown",
   "id": "d57c3909",
   "metadata": {},
   "source": [
    "### Random Forest"
   ]
  },
  {
   "cell_type": "code",
   "execution_count": null,
   "id": "6ca7da8b",
   "metadata": {},
   "outputs": [],
   "source": [
    "rf = RandomForestClassifier(max_features=5, n_estimators=500)\n",
    "rf.fit(X_train,y_train)"
   ]
  },
  {
   "cell_type": "markdown",
   "id": "e69678b6",
   "metadata": {},
   "source": [
    "### Naive Bayes"
   ]
  },
  {
   "cell_type": "code",
   "execution_count": null,
   "id": "02ed121c",
   "metadata": {},
   "outputs": [],
   "source": [
    "clf = GaussianNB()\n",
    "clf.fit(X_train, y_train)"
   ]
  },
  {
   "cell_type": "markdown",
   "id": "bd499aaa",
   "metadata": {},
   "source": [
    "### Prediction probabilities\n"
   ]
  },
  {
   "cell_type": "code",
   "execution_count": null,
   "id": "b3e02426",
   "metadata": {},
   "outputs": [],
   "source": [
    "rf_probs = rf.predict_proba(X_test)\n",
    "clf_probs = clf.predict_proba(X_test)"
   ]
  },
  {
   "cell_type": "code",
   "execution_count": null,
   "id": "f76b035f",
   "metadata": {},
   "outputs": [],
   "source": [
    "rf_probs = rf_probs[:, 1]\n",
    "clf_probs =clf_probs[:, 1]"
   ]
  },
  {
   "cell_type": "markdown",
   "id": "7fce4e05",
   "metadata": {},
   "source": [
    "### AUC ROC\n",
    "#### ROC is the receiver operating characteristic AUC ROC is the area under the ROC curve"
   ]
  },
  {
   "cell_type": "code",
   "execution_count": null,
   "id": "ecfbbc2c",
   "metadata": {},
   "outputs": [],
   "source": [
    "from sklearn.metrics import roc_auc_score, roc_curve"
   ]
  },
  {
   "cell_type": "code",
   "execution_count": null,
   "id": "ec9edfb6",
   "metadata": {},
   "outputs": [],
   "source": [
    "rf_auc = roc_auc_score(y_test, rf_probs)\n",
    "clf_auc = roc_auc_score(y_test, clf_probs)"
   ]
  },
  {
   "cell_type": "code",
   "execution_count": null,
   "id": "299ca1c4",
   "metadata": {},
   "outputs": [],
   "source": [
    "print(f'Random Forest: AUC ROC = {rf_auc}')\n",
    "print(f'Naive Bayes: AUC ROC = {clf_auc}')"
   ]
  },
  {
   "cell_type": "markdown",
   "id": "e0587f2f",
   "metadata": {},
   "source": [
    "### Calculate ROC Curve"
   ]
  },
  {
   "cell_type": "code",
   "execution_count": null,
   "id": "df8e1c75",
   "metadata": {},
   "outputs": [],
   "source": [
    "rf_fpr, rf_tpr, _ = roc_curve(y_test, rf_probs)\n",
    "clf_fpr, clf_tpr, _ = roc_curve(y_test, clf_probs)"
   ]
  },
  {
   "cell_type": "markdown",
   "id": "bb2685ff",
   "metadata": {},
   "source": [
    "### Plot "
   ]
  },
  {
   "cell_type": "code",
   "execution_count": null,
   "id": "c90f946f",
   "metadata": {},
   "outputs": [],
   "source": [
    "import matplotlib.pyplot as plt"
   ]
  },
  {
   "cell_type": "code",
   "execution_count": null,
   "id": "893edc62",
   "metadata": {},
   "outputs": [],
   "source": [
    "plt.figure(dpi =150)\n",
    "plt.plot(rf_fpr, rf_tpr, marker='.', label=f'Random Forest (AUC ROC = {rf_auc})')\n",
    "plt.plot(clf_fpr, clf_tpr, marker='.', label=f'Naive Bayes (AUC ROC = {clf_auc})')\n",
    "\n",
    "# Title\n",
    "plt.title('ROC Plot')\n",
    "# Axis labels\n",
    "plt.xlabel('False Positive Rate')\n",
    "plt.ylabel('True Positive Rate')\n",
    "# Show legend\n",
    "plt.legend() # \n",
    "# Show plot\n",
    "plt.show()"
   ]
  },
  {
   "cell_type": "code",
   "execution_count": null,
   "id": "f631fc8e",
   "metadata": {},
   "outputs": [],
   "source": []
  }
 ],
 "metadata": {
  "kernelspec": {
   "display_name": "Python 3",
   "language": "python",
   "name": "python3"
  },
  "language_info": {
   "codemirror_mode": {
    "name": "ipython",
    "version": 3
   },
   "file_extension": ".py",
   "mimetype": "text/x-python",
   "name": "python",
   "nbconvert_exporter": "python",
   "pygments_lexer": "ipython3",
   "version": "3.8.8"
  }
 },
 "nbformat": 4,
 "nbformat_minor": 5
}
